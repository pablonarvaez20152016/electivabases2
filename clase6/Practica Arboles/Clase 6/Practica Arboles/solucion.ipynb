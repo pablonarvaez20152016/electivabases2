{
 "cells": [
  {
   "cell_type": "markdown",
   "metadata": {},
   "source": [
    "Ajustar un modelo para el conjunto de datos. El conjunto de datos contiene información de una\n",
    "población con la cual se intenta predecir si puede o no cobrar más de 50.000 dólares anuales."
   ]
  },
  {
   "cell_type": "code",
   "execution_count": 1,
   "metadata": {},
   "outputs": [],
   "source": [
    "# Import libraries necessary for this project\n",
    "import numpy as np\n",
    "import pandas as pd\n",
    "from time import time\n",
    "from IPython.display import display # Allows the use of display() for DataFrames"
   ]
  },
  {
   "cell_type": "code",
   "execution_count": 2,
   "metadata": {},
   "outputs": [
    {
     "data": {
      "text/html": [
       "<div>\n",
       "<style scoped>\n",
       "    .dataframe tbody tr th:only-of-type {\n",
       "        vertical-align: middle;\n",
       "    }\n",
       "\n",
       "    .dataframe tbody tr th {\n",
       "        vertical-align: top;\n",
       "    }\n",
       "\n",
       "    .dataframe thead th {\n",
       "        text-align: right;\n",
       "    }\n",
       "</style>\n",
       "<table border=\"1\" class=\"dataframe\">\n",
       "  <thead>\n",
       "    <tr style=\"text-align: right;\">\n",
       "      <th></th>\n",
       "      <th>edad</th>\n",
       "      <th>clase_de_trabajo</th>\n",
       "      <th>cantidad_personas</th>\n",
       "      <th>educacion</th>\n",
       "      <th>anios_de_estudio</th>\n",
       "      <th>estado_civil</th>\n",
       "      <th>ocupacion</th>\n",
       "      <th>relaciones</th>\n",
       "      <th>raza</th>\n",
       "      <th>sexo</th>\n",
       "      <th>ganancia_capital</th>\n",
       "      <th>perdida_de_capital</th>\n",
       "      <th>horas_por_semana</th>\n",
       "      <th>pais</th>\n",
       "      <th>ganancia</th>\n",
       "    </tr>\n",
       "  </thead>\n",
       "  <tbody>\n",
       "    <tr>\n",
       "      <td>0</td>\n",
       "      <td>39</td>\n",
       "      <td>State-gov</td>\n",
       "      <td>77516</td>\n",
       "      <td>Bachelors</td>\n",
       "      <td>13</td>\n",
       "      <td>Never-married</td>\n",
       "      <td>Adm-clerical</td>\n",
       "      <td>Not-in-family</td>\n",
       "      <td>White</td>\n",
       "      <td>Male</td>\n",
       "      <td>2174</td>\n",
       "      <td>0</td>\n",
       "      <td>40</td>\n",
       "      <td>United-States</td>\n",
       "      <td>&lt;=50K</td>\n",
       "    </tr>\n",
       "    <tr>\n",
       "      <td>1</td>\n",
       "      <td>50</td>\n",
       "      <td>Self-emp-not-inc</td>\n",
       "      <td>83311</td>\n",
       "      <td>Bachelors</td>\n",
       "      <td>13</td>\n",
       "      <td>Married-civ-spouse</td>\n",
       "      <td>Exec-managerial</td>\n",
       "      <td>Husband</td>\n",
       "      <td>White</td>\n",
       "      <td>Male</td>\n",
       "      <td>0</td>\n",
       "      <td>0</td>\n",
       "      <td>13</td>\n",
       "      <td>United-States</td>\n",
       "      <td>&lt;=50K</td>\n",
       "    </tr>\n",
       "    <tr>\n",
       "      <td>2</td>\n",
       "      <td>38</td>\n",
       "      <td>Private</td>\n",
       "      <td>215646</td>\n",
       "      <td>HS-grad</td>\n",
       "      <td>9</td>\n",
       "      <td>Divorced</td>\n",
       "      <td>Handlers-cleaners</td>\n",
       "      <td>Not-in-family</td>\n",
       "      <td>White</td>\n",
       "      <td>Male</td>\n",
       "      <td>0</td>\n",
       "      <td>0</td>\n",
       "      <td>40</td>\n",
       "      <td>United-States</td>\n",
       "      <td>&lt;=50K</td>\n",
       "    </tr>\n",
       "    <tr>\n",
       "      <td>3</td>\n",
       "      <td>53</td>\n",
       "      <td>Private</td>\n",
       "      <td>234721</td>\n",
       "      <td>11th</td>\n",
       "      <td>7</td>\n",
       "      <td>Married-civ-spouse</td>\n",
       "      <td>Handlers-cleaners</td>\n",
       "      <td>Husband</td>\n",
       "      <td>Black</td>\n",
       "      <td>Male</td>\n",
       "      <td>0</td>\n",
       "      <td>0</td>\n",
       "      <td>40</td>\n",
       "      <td>United-States</td>\n",
       "      <td>&lt;=50K</td>\n",
       "    </tr>\n",
       "    <tr>\n",
       "      <td>4</td>\n",
       "      <td>28</td>\n",
       "      <td>Private</td>\n",
       "      <td>338409</td>\n",
       "      <td>Bachelors</td>\n",
       "      <td>13</td>\n",
       "      <td>Married-civ-spouse</td>\n",
       "      <td>Prof-specialty</td>\n",
       "      <td>Wife</td>\n",
       "      <td>Black</td>\n",
       "      <td>Female</td>\n",
       "      <td>0</td>\n",
       "      <td>0</td>\n",
       "      <td>40</td>\n",
       "      <td>Cuba</td>\n",
       "      <td>&lt;=50K</td>\n",
       "    </tr>\n",
       "  </tbody>\n",
       "</table>\n",
       "</div>"
      ],
      "text/plain": [
       "   edad  clase_de_trabajo  cantidad_personas  educacion  anios_de_estudio  \\\n",
       "0    39         State-gov              77516  Bachelors                13   \n",
       "1    50  Self-emp-not-inc              83311  Bachelors                13   \n",
       "2    38           Private             215646    HS-grad                 9   \n",
       "3    53           Private             234721       11th                 7   \n",
       "4    28           Private             338409  Bachelors                13   \n",
       "\n",
       "         estado_civil          ocupacion     relaciones   raza    sexo  \\\n",
       "0       Never-married       Adm-clerical  Not-in-family  White    Male   \n",
       "1  Married-civ-spouse    Exec-managerial        Husband  White    Male   \n",
       "2            Divorced  Handlers-cleaners  Not-in-family  White    Male   \n",
       "3  Married-civ-spouse  Handlers-cleaners        Husband  Black    Male   \n",
       "4  Married-civ-spouse     Prof-specialty           Wife  Black  Female   \n",
       "\n",
       "   ganancia_capital  perdida_de_capital  horas_por_semana           pais  \\\n",
       "0              2174                   0                40  United-States   \n",
       "1                 0                   0                13  United-States   \n",
       "2                 0                   0                40  United-States   \n",
       "3                 0                   0                40  United-States   \n",
       "4                 0                   0                40           Cuba   \n",
       "\n",
       "  ganancia  \n",
       "0    <=50K  \n",
       "1    <=50K  \n",
       "2    <=50K  \n",
       "3    <=50K  \n",
       "4    <=50K  "
      ]
     },
     "metadata": {},
     "output_type": "display_data"
    },
    {
     "data": {
      "text/plain": [
       "32561"
      ]
     },
     "execution_count": 2,
     "metadata": {},
     "output_type": "execute_result"
    }
   ],
   "source": [
    "#leer conjunto de datos\n",
    "columnas=['edad','clase_de_trabajo','cantidad_personas','educacion',\n",
    "            'anios_de_estudio','estado_civil','ocupacion','relaciones','raza',\n",
    "            'sexo','ganancia_capital','perdida_de_capital','horas_por_semana','pais','ganancia']\n",
    "# Load the Census dataset\n",
    "data = pd.read_csv(\"./datos/adult.data\",names=columnas, na_values=['?'] )\n",
    "display(data.head(5))\n",
    "len(data)"
   ]
  },
  {
   "cell_type": "markdown",
   "metadata": {},
   "source": [
    "Prepare el conjunto de datoselimine los valores incompletos para este conjunto de datos\t\t y transforme las variables categóricas a dummies. "
   ]
  },
  {
   "cell_type": "code",
   "execution_count": 3,
   "metadata": {},
   "outputs": [
    {
     "data": {
      "text/plain": [
       "edad                     0\n",
       "clase_de_trabajo      1836\n",
       "cantidad_personas        0\n",
       "educacion                0\n",
       "anios_de_estudio         0\n",
       "estado_civil             0\n",
       "ocupacion             1843\n",
       "relaciones               0\n",
       "raza                     0\n",
       "sexo                     0\n",
       "ganancia_capital         0\n",
       "perdida_de_capital       0\n",
       "horas_por_semana         0\n",
       "pais                   583\n",
       "ganancia                 0\n",
       "dtype: int64"
      ]
     },
     "metadata": {},
     "output_type": "display_data"
    },
    {
     "data": {
      "text/plain": [
       "30162"
      ]
     },
     "execution_count": 3,
     "metadata": {},
     "output_type": "execute_result"
    }
   ],
   "source": [
    "# valores faltantes por columna\n",
    "display(data.isnull().sum())\n",
    "#eliminar datos faltantes\n",
    "data=data.dropna(axis = 0)\n",
    "len(data)"
   ]
  },
  {
   "cell_type": "code",
   "execution_count": 4,
   "metadata": {},
   "outputs": [
    {
     "data": {
      "text/html": [
       "<div>\n",
       "<style scoped>\n",
       "    .dataframe tbody tr th:only-of-type {\n",
       "        vertical-align: middle;\n",
       "    }\n",
       "\n",
       "    .dataframe tbody tr th {\n",
       "        vertical-align: top;\n",
       "    }\n",
       "\n",
       "    .dataframe thead th {\n",
       "        text-align: right;\n",
       "    }\n",
       "</style>\n",
       "<table border=\"1\" class=\"dataframe\">\n",
       "  <thead>\n",
       "    <tr style=\"text-align: right;\">\n",
       "      <th></th>\n",
       "      <th>edad</th>\n",
       "      <th>cantidad_personas</th>\n",
       "      <th>anios_de_estudio</th>\n",
       "      <th>ganancia_capital</th>\n",
       "      <th>perdida_de_capital</th>\n",
       "      <th>horas_por_semana</th>\n",
       "    </tr>\n",
       "  </thead>\n",
       "  <tbody>\n",
       "    <tr>\n",
       "      <td>count</td>\n",
       "      <td>30162.000000</td>\n",
       "      <td>3.016200e+04</td>\n",
       "      <td>30162.000000</td>\n",
       "      <td>30162.000000</td>\n",
       "      <td>30162.000000</td>\n",
       "      <td>30162.000000</td>\n",
       "    </tr>\n",
       "    <tr>\n",
       "      <td>mean</td>\n",
       "      <td>38.437902</td>\n",
       "      <td>1.897938e+05</td>\n",
       "      <td>10.121312</td>\n",
       "      <td>1092.007858</td>\n",
       "      <td>88.372489</td>\n",
       "      <td>40.931238</td>\n",
       "    </tr>\n",
       "    <tr>\n",
       "      <td>std</td>\n",
       "      <td>13.134665</td>\n",
       "      <td>1.056530e+05</td>\n",
       "      <td>2.549995</td>\n",
       "      <td>7406.346497</td>\n",
       "      <td>404.298370</td>\n",
       "      <td>11.979984</td>\n",
       "    </tr>\n",
       "    <tr>\n",
       "      <td>min</td>\n",
       "      <td>17.000000</td>\n",
       "      <td>1.376900e+04</td>\n",
       "      <td>1.000000</td>\n",
       "      <td>0.000000</td>\n",
       "      <td>0.000000</td>\n",
       "      <td>1.000000</td>\n",
       "    </tr>\n",
       "    <tr>\n",
       "      <td>25%</td>\n",
       "      <td>28.000000</td>\n",
       "      <td>1.176272e+05</td>\n",
       "      <td>9.000000</td>\n",
       "      <td>0.000000</td>\n",
       "      <td>0.000000</td>\n",
       "      <td>40.000000</td>\n",
       "    </tr>\n",
       "    <tr>\n",
       "      <td>50%</td>\n",
       "      <td>37.000000</td>\n",
       "      <td>1.784250e+05</td>\n",
       "      <td>10.000000</td>\n",
       "      <td>0.000000</td>\n",
       "      <td>0.000000</td>\n",
       "      <td>40.000000</td>\n",
       "    </tr>\n",
       "    <tr>\n",
       "      <td>75%</td>\n",
       "      <td>47.000000</td>\n",
       "      <td>2.376285e+05</td>\n",
       "      <td>13.000000</td>\n",
       "      <td>0.000000</td>\n",
       "      <td>0.000000</td>\n",
       "      <td>45.000000</td>\n",
       "    </tr>\n",
       "    <tr>\n",
       "      <td>max</td>\n",
       "      <td>90.000000</td>\n",
       "      <td>1.484705e+06</td>\n",
       "      <td>16.000000</td>\n",
       "      <td>99999.000000</td>\n",
       "      <td>4356.000000</td>\n",
       "      <td>99.000000</td>\n",
       "    </tr>\n",
       "  </tbody>\n",
       "</table>\n",
       "</div>"
      ],
      "text/plain": [
       "               edad  cantidad_personas  anios_de_estudio  ganancia_capital  \\\n",
       "count  30162.000000       3.016200e+04      30162.000000      30162.000000   \n",
       "mean      38.437902       1.897938e+05         10.121312       1092.007858   \n",
       "std       13.134665       1.056530e+05          2.549995       7406.346497   \n",
       "min       17.000000       1.376900e+04          1.000000          0.000000   \n",
       "25%       28.000000       1.176272e+05          9.000000          0.000000   \n",
       "50%       37.000000       1.784250e+05         10.000000          0.000000   \n",
       "75%       47.000000       2.376285e+05         13.000000          0.000000   \n",
       "max       90.000000       1.484705e+06         16.000000      99999.000000   \n",
       "\n",
       "       perdida_de_capital  horas_por_semana  \n",
       "count        30162.000000      30162.000000  \n",
       "mean            88.372489         40.931238  \n",
       "std            404.298370         11.979984  \n",
       "min              0.000000          1.000000  \n",
       "25%              0.000000         40.000000  \n",
       "50%              0.000000         40.000000  \n",
       "75%              0.000000         45.000000  \n",
       "max           4356.000000         99.000000  "
      ]
     },
     "metadata": {},
     "output_type": "display_data"
    },
    {
     "data": {
      "text/html": [
       "<div>\n",
       "<style scoped>\n",
       "    .dataframe tbody tr th:only-of-type {\n",
       "        vertical-align: middle;\n",
       "    }\n",
       "\n",
       "    .dataframe tbody tr th {\n",
       "        vertical-align: top;\n",
       "    }\n",
       "\n",
       "    .dataframe thead th {\n",
       "        text-align: right;\n",
       "    }\n",
       "</style>\n",
       "<table border=\"1\" class=\"dataframe\">\n",
       "  <thead>\n",
       "    <tr style=\"text-align: right;\">\n",
       "      <th></th>\n",
       "      <th>edad</th>\n",
       "      <th>cantidad_personas</th>\n",
       "      <th>anios_de_estudio</th>\n",
       "      <th>ganancia_capital</th>\n",
       "      <th>perdida_de_capital</th>\n",
       "      <th>horas_por_semana</th>\n",
       "    </tr>\n",
       "  </thead>\n",
       "  <tbody>\n",
       "    <tr>\n",
       "      <td>edad</td>\n",
       "      <td>1.000000</td>\n",
       "      <td>-0.076511</td>\n",
       "      <td>0.043526</td>\n",
       "      <td>0.080154</td>\n",
       "      <td>0.060165</td>\n",
       "      <td>0.101599</td>\n",
       "    </tr>\n",
       "    <tr>\n",
       "      <td>cantidad_personas</td>\n",
       "      <td>-0.076511</td>\n",
       "      <td>1.000000</td>\n",
       "      <td>-0.044992</td>\n",
       "      <td>0.000422</td>\n",
       "      <td>-0.009750</td>\n",
       "      <td>-0.022886</td>\n",
       "    </tr>\n",
       "    <tr>\n",
       "      <td>anios_de_estudio</td>\n",
       "      <td>0.043526</td>\n",
       "      <td>-0.044992</td>\n",
       "      <td>1.000000</td>\n",
       "      <td>0.124416</td>\n",
       "      <td>0.079646</td>\n",
       "      <td>0.152522</td>\n",
       "    </tr>\n",
       "    <tr>\n",
       "      <td>ganancia_capital</td>\n",
       "      <td>0.080154</td>\n",
       "      <td>0.000422</td>\n",
       "      <td>0.124416</td>\n",
       "      <td>1.000000</td>\n",
       "      <td>-0.032229</td>\n",
       "      <td>0.080432</td>\n",
       "    </tr>\n",
       "    <tr>\n",
       "      <td>perdida_de_capital</td>\n",
       "      <td>0.060165</td>\n",
       "      <td>-0.009750</td>\n",
       "      <td>0.079646</td>\n",
       "      <td>-0.032229</td>\n",
       "      <td>1.000000</td>\n",
       "      <td>0.052417</td>\n",
       "    </tr>\n",
       "    <tr>\n",
       "      <td>horas_por_semana</td>\n",
       "      <td>0.101599</td>\n",
       "      <td>-0.022886</td>\n",
       "      <td>0.152522</td>\n",
       "      <td>0.080432</td>\n",
       "      <td>0.052417</td>\n",
       "      <td>1.000000</td>\n",
       "    </tr>\n",
       "  </tbody>\n",
       "</table>\n",
       "</div>"
      ],
      "text/plain": [
       "                        edad  cantidad_personas  anios_de_estudio  \\\n",
       "edad                1.000000          -0.076511          0.043526   \n",
       "cantidad_personas  -0.076511           1.000000         -0.044992   \n",
       "anios_de_estudio    0.043526          -0.044992          1.000000   \n",
       "ganancia_capital    0.080154           0.000422          0.124416   \n",
       "perdida_de_capital  0.060165          -0.009750          0.079646   \n",
       "horas_por_semana    0.101599          -0.022886          0.152522   \n",
       "\n",
       "                    ganancia_capital  perdida_de_capital  horas_por_semana  \n",
       "edad                        0.080154            0.060165          0.101599  \n",
       "cantidad_personas           0.000422           -0.009750         -0.022886  \n",
       "anios_de_estudio            0.124416            0.079646          0.152522  \n",
       "ganancia_capital            1.000000           -0.032229          0.080432  \n",
       "perdida_de_capital         -0.032229            1.000000          0.052417  \n",
       "horas_por_semana            0.080432            0.052417          1.000000  "
      ]
     },
     "metadata": {},
     "output_type": "display_data"
    },
    {
     "data": {
      "text/plain": [
       "edad                   int64\n",
       "clase_de_trabajo      object\n",
       "cantidad_personas      int64\n",
       "educacion             object\n",
       "anios_de_estudio       int64\n",
       "estado_civil          object\n",
       "ocupacion             object\n",
       "relaciones            object\n",
       "raza                  object\n",
       "sexo                  object\n",
       "ganancia_capital       int64\n",
       "perdida_de_capital     int64\n",
       "horas_por_semana       int64\n",
       "pais                  object\n",
       "ganancia              object\n",
       "dtype: object"
      ]
     },
     "metadata": {},
     "output_type": "display_data"
    },
    {
     "name": "stdout",
     "output_type": "stream",
     "text": [
      "total: 30162\n",
      ">50k: 7508\n",
      "<=50k: 22654\n"
     ]
    }
   ],
   "source": [
    "data_complete=data.drop(labels=['cantidad_personas'] , axis=1)\n",
    "display(data.describe())\n",
    "display(data.corr())\n",
    "display(data.dtypes)\n",
    "#explore data \n",
    "# TODO: Total number of records\n",
    "n_records = len(data)\n",
    "\n",
    "# TODO: Number of records where individual's income is more than $50,000\n",
    "n_greater_50k =  len(data[data['ganancia'] == '>50K'])\n",
    "\n",
    "# TODO: Number of records where individual's income is at most $50,000\n",
    "n_at_most_50k = len(data[data['ganancia'] == '<=50K'])\n",
    "\n",
    "# TODO: Percentage of individuals whose income is more than $50,000\n",
    "greater_percent = round((n_greater_50k*100)/n_records,2)\n",
    "print(\"total:\",str(n_records))\n",
    "print(\">50k:\",n_greater_50k)\n",
    "print(\"<=50k:\",n_at_most_50k)"
   ]
  },
  {
   "cell_type": "code",
   "execution_count": 5,
   "metadata": {},
   "outputs": [
    {
     "data": {
      "text/html": [
       "<div>\n",
       "<style scoped>\n",
       "    .dataframe tbody tr th:only-of-type {\n",
       "        vertical-align: middle;\n",
       "    }\n",
       "\n",
       "    .dataframe tbody tr th {\n",
       "        vertical-align: top;\n",
       "    }\n",
       "\n",
       "    .dataframe thead th {\n",
       "        text-align: right;\n",
       "    }\n",
       "</style>\n",
       "<table border=\"1\" class=\"dataframe\">\n",
       "  <thead>\n",
       "    <tr style=\"text-align: right;\">\n",
       "      <th></th>\n",
       "      <th>edad</th>\n",
       "      <th>cantidad_personas</th>\n",
       "      <th>anios_de_estudio</th>\n",
       "      <th>ganancia_capital</th>\n",
       "      <th>perdida_de_capital</th>\n",
       "      <th>horas_por_semana</th>\n",
       "      <th>clase_de_trabajo_Federal-gov</th>\n",
       "      <th>clase_de_trabajo_Local-gov</th>\n",
       "      <th>clase_de_trabajo_Private</th>\n",
       "      <th>clase_de_trabajo_Self-emp-inc</th>\n",
       "      <th>...</th>\n",
       "      <th>pais_Portugal</th>\n",
       "      <th>pais_Puerto-Rico</th>\n",
       "      <th>pais_Scotland</th>\n",
       "      <th>pais_South</th>\n",
       "      <th>pais_Taiwan</th>\n",
       "      <th>pais_Thailand</th>\n",
       "      <th>pais_Trinadad&amp;Tobago</th>\n",
       "      <th>pais_United-States</th>\n",
       "      <th>pais_Vietnam</th>\n",
       "      <th>pais_Yugoslavia</th>\n",
       "    </tr>\n",
       "  </thead>\n",
       "  <tbody>\n",
       "    <tr>\n",
       "      <td>0</td>\n",
       "      <td>39</td>\n",
       "      <td>77516</td>\n",
       "      <td>13</td>\n",
       "      <td>2174</td>\n",
       "      <td>0</td>\n",
       "      <td>40</td>\n",
       "      <td>0</td>\n",
       "      <td>0</td>\n",
       "      <td>0</td>\n",
       "      <td>0</td>\n",
       "      <td>...</td>\n",
       "      <td>0</td>\n",
       "      <td>0</td>\n",
       "      <td>0</td>\n",
       "      <td>0</td>\n",
       "      <td>0</td>\n",
       "      <td>0</td>\n",
       "      <td>0</td>\n",
       "      <td>1</td>\n",
       "      <td>0</td>\n",
       "      <td>0</td>\n",
       "    </tr>\n",
       "    <tr>\n",
       "      <td>1</td>\n",
       "      <td>50</td>\n",
       "      <td>83311</td>\n",
       "      <td>13</td>\n",
       "      <td>0</td>\n",
       "      <td>0</td>\n",
       "      <td>13</td>\n",
       "      <td>0</td>\n",
       "      <td>0</td>\n",
       "      <td>0</td>\n",
       "      <td>0</td>\n",
       "      <td>...</td>\n",
       "      <td>0</td>\n",
       "      <td>0</td>\n",
       "      <td>0</td>\n",
       "      <td>0</td>\n",
       "      <td>0</td>\n",
       "      <td>0</td>\n",
       "      <td>0</td>\n",
       "      <td>1</td>\n",
       "      <td>0</td>\n",
       "      <td>0</td>\n",
       "    </tr>\n",
       "    <tr>\n",
       "      <td>2</td>\n",
       "      <td>38</td>\n",
       "      <td>215646</td>\n",
       "      <td>9</td>\n",
       "      <td>0</td>\n",
       "      <td>0</td>\n",
       "      <td>40</td>\n",
       "      <td>0</td>\n",
       "      <td>0</td>\n",
       "      <td>1</td>\n",
       "      <td>0</td>\n",
       "      <td>...</td>\n",
       "      <td>0</td>\n",
       "      <td>0</td>\n",
       "      <td>0</td>\n",
       "      <td>0</td>\n",
       "      <td>0</td>\n",
       "      <td>0</td>\n",
       "      <td>0</td>\n",
       "      <td>1</td>\n",
       "      <td>0</td>\n",
       "      <td>0</td>\n",
       "    </tr>\n",
       "    <tr>\n",
       "      <td>3</td>\n",
       "      <td>53</td>\n",
       "      <td>234721</td>\n",
       "      <td>7</td>\n",
       "      <td>0</td>\n",
       "      <td>0</td>\n",
       "      <td>40</td>\n",
       "      <td>0</td>\n",
       "      <td>0</td>\n",
       "      <td>1</td>\n",
       "      <td>0</td>\n",
       "      <td>...</td>\n",
       "      <td>0</td>\n",
       "      <td>0</td>\n",
       "      <td>0</td>\n",
       "      <td>0</td>\n",
       "      <td>0</td>\n",
       "      <td>0</td>\n",
       "      <td>0</td>\n",
       "      <td>1</td>\n",
       "      <td>0</td>\n",
       "      <td>0</td>\n",
       "    </tr>\n",
       "    <tr>\n",
       "      <td>4</td>\n",
       "      <td>28</td>\n",
       "      <td>338409</td>\n",
       "      <td>13</td>\n",
       "      <td>0</td>\n",
       "      <td>0</td>\n",
       "      <td>40</td>\n",
       "      <td>0</td>\n",
       "      <td>0</td>\n",
       "      <td>1</td>\n",
       "      <td>0</td>\n",
       "      <td>...</td>\n",
       "      <td>0</td>\n",
       "      <td>0</td>\n",
       "      <td>0</td>\n",
       "      <td>0</td>\n",
       "      <td>0</td>\n",
       "      <td>0</td>\n",
       "      <td>0</td>\n",
       "      <td>0</td>\n",
       "      <td>0</td>\n",
       "      <td>0</td>\n",
       "    </tr>\n",
       "  </tbody>\n",
       "</table>\n",
       "<p>5 rows × 104 columns</p>\n",
       "</div>"
      ],
      "text/plain": [
       "   edad  cantidad_personas  anios_de_estudio  ganancia_capital  \\\n",
       "0    39              77516                13              2174   \n",
       "1    50              83311                13                 0   \n",
       "2    38             215646                 9                 0   \n",
       "3    53             234721                 7                 0   \n",
       "4    28             338409                13                 0   \n",
       "\n",
       "   perdida_de_capital  horas_por_semana  clase_de_trabajo_Federal-gov  \\\n",
       "0                   0                40                             0   \n",
       "1                   0                13                             0   \n",
       "2                   0                40                             0   \n",
       "3                   0                40                             0   \n",
       "4                   0                40                             0   \n",
       "\n",
       "   clase_de_trabajo_Local-gov  clase_de_trabajo_Private  \\\n",
       "0                           0                         0   \n",
       "1                           0                         0   \n",
       "2                           0                         1   \n",
       "3                           0                         1   \n",
       "4                           0                         1   \n",
       "\n",
       "   clase_de_trabajo_Self-emp-inc  ...  pais_Portugal  pais_Puerto-Rico  \\\n",
       "0                              0  ...              0                 0   \n",
       "1                              0  ...              0                 0   \n",
       "2                              0  ...              0                 0   \n",
       "3                              0  ...              0                 0   \n",
       "4                              0  ...              0                 0   \n",
       "\n",
       "   pais_Scotland  pais_South  pais_Taiwan  pais_Thailand  \\\n",
       "0              0           0            0              0   \n",
       "1              0           0            0              0   \n",
       "2              0           0            0              0   \n",
       "3              0           0            0              0   \n",
       "4              0           0            0              0   \n",
       "\n",
       "   pais_Trinadad&Tobago  pais_United-States  pais_Vietnam  pais_Yugoslavia  \n",
       "0                     0                   1             0                0  \n",
       "1                     0                   1             0                0  \n",
       "2                     0                   1             0                0  \n",
       "3                     0                   1             0                0  \n",
       "4                     0                   0             0                0  \n",
       "\n",
       "[5 rows x 104 columns]"
      ]
     },
     "metadata": {},
     "output_type": "display_data"
    }
   ],
   "source": [
    "# Split the data into features and target label\n",
    "Y = data['ganancia']\n",
    "X = data.drop(labels=['ganancia'],axis=1)\n",
    "\n",
    "columnas=list(data.columns)\n",
    "tipos=list(data.dtypes)\n",
    "\n",
    "\n",
    "def function_dummies(df):\n",
    "    df_dummies=df\n",
    "    colnames=df.columns\n",
    "    for c in colnames:\n",
    "        if df[c].dtypes=='object':\n",
    "            col=  pd.get_dummies(df[c])\n",
    "            df_dummies[c+\"_\"+col.columns]=col\n",
    "            df_dummies = df_dummies.drop(labels=[c],axis=1)\n",
    "    return (df_dummies)\n",
    "            \n",
    "            \n",
    "X_dummies=function_dummies(X)\n",
    "display(X_dummies.head(5))\n",
    "# TODO: Encode the 'income_raw' data to numerical values\n",
    "Y = Y.str.replace('<=50K','0')\n",
    "Y = Y.replace('>50K','1')\n"
   ]
  },
  {
   "cell_type": "markdown",
   "metadata": {},
   "source": [
    "1.1.1 Separe las poblaciones en entrenamiento y validación en forma aleatoria en 70/30 (genere una semilla aleatoria e indique el valor de la semilla en el software que utilizó). Indique que cantidad de casos quedaron para cada ambiente."
   ]
  },
  {
   "cell_type": "code",
   "execution_count": 6,
   "metadata": {},
   "outputs": [
    {
     "name": "stdout",
     "output_type": "stream",
     "text": [
      "Training set has 21113 samples.\n",
      "Testing set has 9049 samples.\n",
      ">50k train 5223\n",
      "<50 train 15890\n",
      ">50k test 2285\n",
      "<50 test 6764\n"
     ]
    }
   ],
   "source": [
    "# Import train_test_split\n",
    "from sklearn.model_selection import train_test_split\n",
    "\n",
    "# Split the 'features' and 'income' data into training and testing sets\n",
    "X_train, X_test, y_train, y_test = train_test_split(X_dummies, \n",
    "                                                    Y, \n",
    "                                                    test_size = 0.3, \n",
    "                                                    random_state = 0)\n",
    "# Show the results of the split\n",
    "print(\"Training set has {} samples.\".format(X_train.shape[0]))\n",
    "print(\"Testing set has {} samples.\".format(X_test.shape[0]))\n",
    "\n",
    "\n",
    "print(\">50k train\",y_train[y_train=='1'].count())\n",
    "print(\"<50 train\",y_train[y_train=='0'].count())\n",
    "\n",
    "print(\">50k test\",y_test[y_test=='1'].count())\n",
    "print(\"<50 test\",y_test[y_test=='0'].count())\n"
   ]
  },
  {
   "cell_type": "markdown",
   "metadata": {},
   "source": [
    "1.1.2 Ajuste el mejor modelo posible . Indique el modelo con todas sus variables."
   ]
  },
  {
   "cell_type": "code",
   "execution_count": 7,
   "metadata": {},
   "outputs": [
    {
     "data": {
      "text/plain": [
       "DecisionTreeClassifier(class_weight='balanced', criterion='entropy',\n",
       "                       max_depth=3, max_features=None, max_leaf_nodes=None,\n",
       "                       min_impurity_decrease=0.0, min_impurity_split=None,\n",
       "                       min_samples_leaf=1, min_samples_split=100,\n",
       "                       min_weight_fraction_leaf=0.0, presort=False,\n",
       "                       random_state=None, splitter='random')"
      ]
     },
     "execution_count": 7,
     "metadata": {},
     "output_type": "execute_result"
    }
   ],
   "source": [
    "from sklearn import tree\n",
    "\n",
    "# Crear Arbol de decision con profundidad = 4\n",
    "decision_tree = tree.DecisionTreeClassifier(criterion='entropy',\n",
    "                                          #  min_samples_split=1000,\n",
    "                                          #  min_samples_leaf=500,\n",
    "                                            max_depth = 4\n",
    "                                           )\n",
    "decision_tree=tree.DecisionTreeClassifier(class_weight='balanced', criterion='entropy',\n",
    "            max_depth=3, max_features=None, max_leaf_nodes=None,\n",
    "            min_impurity_decrease=0.0, min_impurity_split=None,\n",
    "            min_samples_leaf=1, min_samples_split=100,\n",
    "            min_weight_fraction_leaf=0.0, presort=False, random_state=None,\n",
    "            splitter='random')\n",
    "\n",
    "\n",
    "decision_tree.fit(X_train, y_train)"
   ]
  },
  {
   "cell_type": "code",
   "execution_count": 52,
   "metadata": {},
   "outputs": [
    {
     "data": {
      "image/png": "[encoded data removed]",
      "text/plain": [
       "<IPython.core.display.Image object>"
      ]
     },
     "execution_count": 52,
     "metadata": {},
     "output_type": "execute_result"
    }
   ],
   "source": [
    "from sklearn.externals.six import StringIO \n",
    "from sklearn.tree import export_graphviz\n",
    "import pydotplus\n",
    "from IPython.display import Image \n",
    "#pip install graphviz\n",
    "#pip install pydotplus\n",
    "dot_data = StringIO()\n",
    "\n",
    "feature_cols=X_train.columns\n",
    "export_graphviz(decision_tree, out_file=dot_data,  \n",
    "                filled=True, rounded=True,\n",
    "                special_characters=True,feature_names = feature_cols,class_names=['0','1'])\n",
    "\n",
    "graph = pydotplus.graph_from_dot_data(dot_data.getvalue())  \n",
    "graph.write_png('arbol.png')\n",
    "Image(graph.create_png())"
   ]
  },
  {
   "cell_type": "markdown",
   "metadata": {},
   "source": [
    "Calcular  la perfomarnce y el AUC y el gráfico ROC en entrenamiento y validación indicando también el total de casos de cada una de las clases."
   ]
  },
  {
   "cell_type": "code",
   "execution_count": 83,
   "metadata": {},
   "outputs": [],
   "source": [
    "import matplotlib.pyplot as plt\n",
    "from sklearn.utils.multiclass import unique_labels\n",
    "\n",
    "def plot_confusion_matrix(y_true, y_pred, classes,\n",
    "                          normalize=False,\n",
    "                          title=None,\n",
    "                          cmap=plt.cm.Blues):\n",
    "    \"\"\"\n",
    "    This function prints and plots the confusion matrix.\n",
    "    Normalization can be applied by setting `normalize=True`.\n",
    "    \"\"\"\n",
    "    if not title:\n",
    "        if normalize:\n",
    "            title = 'Normalized confusion matrix'\n",
    "        else:\n",
    "            title = 'Confusion matrix, without normalization'\n",
    "\n",
    "    # Compute confusion matrix\n",
    "    cm = confusion_matrix(y_true, y_pred)\n",
    "    # Only use the labels that appear in the data\n",
    "    classes = classes[unique_labels(y_true, y_pred)]\n",
    "    if normalize:\n",
    "        cm = cm.astype('float') / cm.sum(axis=1)[:, np.newaxis]\n",
    "        print(\"Normalized confusion matrix\")\n",
    "    else:\n",
    "        print('Confusion matrix, without normalization')\n",
    "\n",
    "    print(cm)\n",
    "\n",
    "    fig, ax = plt.subplots()\n",
    "    im = ax.imshow(cm, interpolation='nearest', cmap=cmap)\n",
    "    ax.figure.colorbar(im, ax=ax)\n",
    "    # We want to show all ticks...\n",
    "    ax.set(xticks=np.arange(cm.shape[1]),\n",
    "           yticks=np.arange(cm.shape[0]),\n",
    "           # ... and label them with the respective list entries\n",
    "           xticklabels=classes, yticklabels=classes,\n",
    "           title=title,\n",
    "           ylabel='True label',\n",
    "           xlabel='Predicted label')\n",
    "\n",
    "    # Rotate the tick labels and set their alignment.\n",
    "    plt.setp(ax.get_xticklabels(), rotation=45, ha=\"right\",\n",
    "             rotation_mode=\"anchor\")\n",
    "\n",
    "    # Loop over data dimensions and create text annotations.\n",
    "    fmt = '.2f' if normalize else 'd'\n",
    "    thresh = cm.max() / 2.\n",
    "    for i in range(cm.shape[0]):\n",
    "        for j in range(cm.shape[1]):\n",
    "            ax.text(j, i, format(cm[i, j], fmt),\n",
    "                    ha=\"center\", va=\"center\",\n",
    "                    color=\"white\" if cm[i, j] > thresh else \"black\")\n",
    "    fig.tight_layout()\n",
    "    return ax"
   ]
  },
  {
   "cell_type": "code",
   "execution_count": 84,
   "metadata": {},
   "outputs": [
    {
     "data": {
      "text/plain": [
       "'Test:'"
      ]
     },
     "metadata": {},
     "output_type": "display_data"
    },
    {
     "data": {
      "text/plain": [
       "array([[4538, 2226],\n",
       "       [ 278, 2007]])"
      ]
     },
     "metadata": {},
     "output_type": "display_data"
    },
    {
     "data": {
      "text/plain": [
       "'Train:'"
      ]
     },
     "metadata": {},
     "output_type": "display_data"
    },
    {
     "data": {
      "text/plain": [
       "array([[10799,  5091],\n",
       "       [  607,  4616]])"
      ]
     },
     "metadata": {},
     "output_type": "display_data"
    },
    {
     "name": "stdout",
     "output_type": "stream",
     "text": [
      "accuracy test: 0.723284340811\n",
      "accuracy train: 0.7301188841\n",
      "verdaderos positivos: 2007\n",
      "verdaderos negativos: 4538\n",
      "falsos positivos: 2226\n",
      "falsos negativos: 278\n"
     ]
    }
   ],
   "source": [
    "from sklearn.metrics import confusion_matrix,classification_report\n",
    "from sklearn.metrics import accuracy_score,precision_score,auc\n",
    "\n",
    "#Predict the response for test dataset\n",
    "y_pred_test = decision_tree.predict(X_test)\n",
    "y_pred_train = decision_tree.predict(X_train)\n",
    "\n",
    "#n_samples / (n_classes * np.bincount(y))\n",
    "\n",
    "display('Test:',confusion_matrix(y_test, y_pred_test))\n",
    "display('Train:',confusion_matrix(y_train, y_pred_train))\n",
    "\n",
    "\n",
    "print(\"accuracy test:\",accuracy_score(y_test, y_pred_test))\n",
    "print(\"accuracy train:\",accuracy_score(y_train, y_pred_train))\n",
    "\n",
    "\n",
    "\n",
    "tn, fp, fn, tp = confusion_matrix(y_test,y_pred_test).ravel()\n",
    "\n",
    "print(\"verdaderos positivos:\",tp)\n",
    "print(\"verdaderos negativos:\",tn)\n",
    "print(\"falsos positivos:\",fp)\n",
    "print(\"falsos negativos:\",fn)\n",
    "\n",
    "ac=(tp+tn)/(tn+ fp+ fn+ tp)\n",
    "\n",
    "# Pretty display for notebooks\n",
    "%matplotlib inline\n",
    "#plot_confusion_matrix(y_test, y_pred_test, Y)\n",
    "\n",
    "    \n",
    "\n",
    "#plot_confusion_matrix(y_train, y_pred_train, Y)\n",
    "\n",
    "\n",
    "#plot_confusion_matrix(y_test, y_pred_test, Y,\n",
    " #                     normalize=True,\n",
    "  #                    title='Normalized confusion matrix')"
   ]
  },
  {
   "cell_type": "code",
   "execution_count": 85,
   "metadata": {},
   "outputs": [
    {
     "name": "stdout",
     "output_type": "stream",
     "text": [
      "              precision    recall  f1-score   support\n",
      "\n",
      "           0       0.94      0.67      0.78      6764\n",
      "           1       0.47      0.88      0.62      2285\n",
      "\n",
      "   micro avg       0.72      0.72      0.72      9049\n",
      "   macro avg       0.71      0.77      0.70      9049\n",
      "weighted avg       0.82      0.72      0.74      9049\n",
      "\n"
     ]
    },
    {
     "data": {
      "text/plain": [
       "15639    False\n",
       "29059    False\n",
       "27523    False\n",
       "9280     False\n",
       "Name: ganancia, dtype: bool"
      ]
     },
     "metadata": {},
     "output_type": "display_data"
    },
    {
     "data": {
      "text/plain": [
       "15639    0\n",
       "29059    0\n",
       "27523    0\n",
       "9280     0\n",
       "Name: ganancia, dtype: object"
      ]
     },
     "metadata": {},
     "output_type": "display_data"
    },
    {
     "name": "stdout",
     "output_type": "stream",
     "text": [
      "AUC test: 0.82\n"
     ]
    },
    {
     "data": {
      "text/plain": [
       "array([ 0.        ,  0.32909521,  1.        ])"
      ]
     },
     "metadata": {},
     "output_type": "display_data"
    },
    {
     "data": {
      "text/plain": [
       "array([ 0.        ,  0.87833698,  1.        ])"
      ]
     },
     "metadata": {},
     "output_type": "display_data"
    },
    {
     "data": {
      "image/png": "[encoded data removed]",
      "text/plain": [
       "<Figure size 432x288 with 1 Axes>"
      ]
     },
     "metadata": {},
     "output_type": "display_data"
    }
   ],
   "source": [
    "#AUC curva ROC\n",
    "from sklearn.metrics import roc_curve\n",
    "from sklearn.metrics import roc_auc_score\n",
    "from sklearn.metrics import average_precision_score\n",
    "\n",
    "def plot_roc_curve(fpr, tpr):\n",
    "    plt.plot(fpr, tpr, color='orange', label='ROC')\n",
    "    plt.plot([0, 1], [0, 1], color='darkblue', linestyle='--')\n",
    "    plt.xlabel('False Positive Rate')\n",
    "    plt.ylabel('True Positive Rate')\n",
    "    plt.title('Receiver Operating Characteristic (ROC) Curve')\n",
    "    plt.legend()\n",
    "    plt.show()\n",
    "    \n",
    "\n",
    "\n",
    "print(classification_report(y_test, y_pred_test))    \n",
    "\n",
    "probs_test = decision_tree.predict_proba(X_test)    \n",
    "\n",
    "data_set_test=X_test.copy()\n",
    "data_set_test['predicho']=y_pred_test\n",
    "data_set_test['predicho_prob_1']=probs_test[:,1]\n",
    "data_set_test['predicho_prob_0']=probs_test[:,0]\n",
    "data_set_test['real']=y_test\n",
    "\n",
    "\n",
    "\n",
    "y_true='1' <= y_test\n",
    "data_set_test['verdadero']=y_true\n",
    "\n",
    "\n",
    "y_pred_true='1' <= y_pred_test\n",
    "display(y_true[1:5])\n",
    "display(y_test[1:5])\n",
    "\n",
    "#y_test_modelo=data_set_test.sort(['predicho_prob_1'], ascending=[False])\n",
    "\n",
    "\n",
    "auc_test = roc_auc_score(y_test, data_set_test['predicho_prob_1']\n",
    "                      )\n",
    "#auc_test = roc_auc_score(y_true, y_pred_true)\n",
    "#auc_test = roc_auc_score(y_test_modelo['verdadero'], \n",
    " #                        y_test_modelo['predicho_prob_1'])\n",
    "\n",
    "\n",
    "print('AUC test: %.2f' % auc_test)\n",
    "\n",
    "#fpr, tpr, thresholds = roc_curve(y_true, data_set_test['predicho_prob_1'])\n",
    "fpr, tpr, thresholds = roc_curve(y_true, y_pred_true)\n",
    "#fpr, tpr, thresholds = roc_curve(y_test_modelo['verdadero'], \n",
    " #                               y_test_modelo['predicho_prob_1'])\n",
    "\n",
    "\n",
    "display(fpr)\n",
    "display(tpr)\n",
    "\n",
    "\n",
    "plot_roc_curve(fpr, tpr)\n",
    "#display(data_set_test.head(10))\n",
    "#\n",
    "#display(balanced_accuracy_score(y_test, y_pred_test))\n"
   ]
  },
  {
   "cell_type": "code",
   "execution_count": 86,
   "metadata": {},
   "outputs": [
    {
     "name": "stdout",
     "output_type": "stream",
     "text": [
      "              precision    recall  f1-score   support\n",
      "\n",
      "           0       0.95      0.68      0.79     15890\n",
      "           1       0.48      0.88      0.62      5223\n",
      "\n",
      "   micro avg       0.73      0.73      0.73     21113\n",
      "   macro avg       0.71      0.78      0.70     21113\n",
      "weighted avg       0.83      0.73      0.75     21113\n",
      "\n",
      "AUC train: 0.78\n"
     ]
    },
    {
     "data": {
      "image/png": "[encoded data removed]",
      "text/plain": [
       "<Figure size 432x288 with 1 Axes>"
      ]
     },
     "metadata": {},
     "output_type": "display_data"
    },
    {
     "data": {
      "text/plain": [
       "0.78169654190865856"
      ]
     },
     "metadata": {},
     "output_type": "display_data"
    }
   ],
   "source": [
    "probs_train = decision_tree.predict_proba(X_train)    \n",
    "\n",
    "data_set_train=X_train.copy()\n",
    "data_set_train['predicho']=y_pred_train\n",
    "data_set_train['predicho_prob_1']=probs_train[:,1]\n",
    "data_set_train['predicho_prob_0']=probs_train[:,0]\n",
    "data_set_train['real']=y_train\n",
    "\n",
    "print(classification_report(y_train, y_pred_train)) \n",
    "\n",
    "y_true='1' <= y_train\n",
    "y_pred_true='1' <= y_pred_train\n",
    "\n",
    "auc_train = roc_auc_score(y_true, y_pred_true)\n",
    "print('AUC train: %.2f' % auc_train)\n",
    "\n",
    "\n",
    "\n",
    "fpr, tpr, thresholds = roc_curve(y_true, y_pred_true)\n",
    "#fpr, tpr, thresholds = roc_curve(y_true, data_set_train['predicho_prob_1'])\n",
    "\n",
    "plot_roc_curve(fpr, tpr)\n",
    "#display(data_set_train.head(10))\n",
    "\n",
    "\n",
    "from sklearn.metrics import balanced_accuracy_score\n",
    "display(balanced_accuracy_score(y_train, y_pred_train))\n",
    "\n",
    "\n"
   ]
  },
  {
   "cell_type": "markdown",
   "metadata": {},
   "source": [
    "1.1.4 Selecciones el 25% de los individuos en el ambiente de validación de acuerdo a la siguiente lógica. Entregue los resultados indicados:\n",
    "Al azar e indique la cantidad de individuos que cobran más de 50.000 dólares.\n",
    "Utilizando el modelo desarrollado e indique la cantidad de individuos que cobran más de 50.000 dólares."
   ]
  },
  {
   "cell_type": "code",
   "execution_count": 88,
   "metadata": {},
   "outputs": [
    {
     "name": "stdout",
     "output_type": "stream",
     "text": [
      "total 25% 2263\n",
      ">50k test 25% azar 548\n",
      ">50k test 25% modelo 1263\n"
     ]
    }
   ],
   "source": [
    "X_test_75, X_test_25, y_test_75, y_test_25 = train_test_split(X_test, \n",
    "                                                    y_test, \n",
    "                                                    test_size = 0.25, \n",
    "                                                    random_state = 0)\n",
    "\n",
    "#cantidad de individuos >50k al azar\n",
    "print (\"total 25%\",y_test_25.count())\n",
    "print(\">50k test 25% azar\",y_test_25[y_test_25=='1'].count())\n",
    "\n",
    "##cantidad de individuos >50k modelo\n",
    "y_test_modelo=data_set_test.sort(['predicho_prob_1'], ascending=[False])[1:y_test_25.count()]\n",
    "print(\">50k test 25% modelo\",len(y_test_modelo[y_test_modelo['real'] == '1']))\n",
    "#data_set_test.sort_values(by='predicho_prob_1', ascending=False)"
   ]
  },
  {
   "cell_type": "code",
   "execution_count": 59,
   "metadata": {},
   "outputs": [
    {
     "data": {
      "text/plain": [
       "array([ 0.83062645,  0.83725555,  0.84090156,  0.82963208,  0.84350133,\n",
       "        0.8428382 ,  0.84383289,  0.85179045,  0.84875622,  0.83383085])"
      ]
     },
     "metadata": {},
     "output_type": "display_data"
    },
    {
     "data": {
      "text/plain": [
       "0.84029655740782483"
      ]
     },
     "metadata": {},
     "output_type": "display_data"
    }
   ],
   "source": [
    "# Ejemplo cross-validation\n",
    "from sklearn.model_selection import KFold # import KFold\n",
    "from sklearn.model_selection import cross_val_score, cross_val_predict\n",
    "\n",
    "modelo = tree.DecisionTreeClassifier(criterion='entropy',\n",
    "                                          #  min_samples_split=1000,\n",
    "                                          #  min_samples_leaf=500,\n",
    "                                            max_depth = 4\n",
    "                                           )\n",
    "\n",
    "scores = cross_val_score(modelo, X_dummies, Y, cv=10)\n",
    "display(scores)\n",
    "display(scores.mean())\n"
   ]
  },
  {
   "cell_type": "code",
   "execution_count": 60,
   "metadata": {},
   "outputs": [
    {
     "data": {
      "text/plain": [
       "[0.72338996595721639,\n",
       " 0.72604137507562561,\n",
       " 0.73738798927620997,\n",
       " 0.73349258583533616]"
      ]
     },
     "metadata": {},
     "output_type": "display_data"
    },
    {
     "data": {
      "text/plain": [
       "0.73007797903609706"
      ]
     },
     "metadata": {},
     "output_type": "display_data"
    },
    {
     "data": {
      "text/plain": [
       "0.73000415250180162"
      ]
     },
     "metadata": {},
     "output_type": "display_data"
    },
    {
     "data": {
      "image/png": "[encoded data removed]",
      "text/plain": [
       "<Figure size 432x288 with 1 Axes>"
      ]
     },
     "metadata": {},
     "output_type": "display_data"
    }
   ],
   "source": [
    "from sklearn.model_selection import StratifiedKFold\n",
    "cv = StratifiedKFold(n_splits=4,shuffle=False)\n",
    "from sklearn.preprocessing import label_binarize\n",
    "from scipy import interp\n",
    "\n",
    "tprs = []\n",
    "aucs = []\n",
    "i = 1\n",
    "mean_fpr = np.linspace(0,1,100)\n",
    "#display(mean_fpr)\n",
    "\n",
    "\n",
    "\n",
    "for train,test in cv.split(X_dummies,Y):\n",
    "    prediction = modelo.fit(X_dummies.iloc[train],\n",
    "                            Y.iloc[train]).predict(X_dummies.iloc[test])\n",
    "    \n",
    "    y_bin_t = label_binarize(Y.iloc[test], classes=['0', '1'])\n",
    "    y_bin_p = label_binarize(prediction, classes=['0', '1'])\n",
    "\n",
    "    fpr = dict()\n",
    "    tpr = dict()\n",
    "    roc_auc = dict()\n",
    "\n",
    "    fpr[\"micro\"], tpr[\"micro\"], _ = roc_curve(y_bin_t.ravel(), y_bin_p.ravel())\n",
    "    roc_auc[\"micro\"] = auc(fpr[\"micro\"], tpr[\"micro\"])\n",
    "    aucs.append(roc_auc[\"micro\"])\n",
    "    tprs.append(interp(mean_fpr,  fpr[\"micro\"], tpr[\"micro\"]))\n",
    "    plt.plot(fpr[\"micro\"],  tpr[\"micro\"], lw=2, alpha=0.3, label='ROC fold %d (AUC = %0.2f)' % (i, roc_auc[\"micro\"]))\n",
    "    i= i+1\n",
    "\n",
    "display(aucs)\n",
    "display(sum(aucs)/len(aucs))\n",
    "\n",
    "\n",
    "plt.plot([0,1],[0,1],linestyle = '--',lw = 2,color = 'black')\n",
    "mean_tpr = np.mean(tprs, axis=0)\n",
    "mean_auc = auc(mean_fpr, mean_tpr)\n",
    "display(mean_auc)\n",
    "\n",
    "plt.plot(mean_fpr, mean_tpr, color='blue',\n",
    "         label=r'Mean ROC (AUC = %0.2f )' % (mean_auc),lw=2, alpha=1)\n",
    "\n",
    "plt.xlabel('False Positive Rate')\n",
    "plt.ylabel('True Positive Rate')\n",
    "plt.title('ROC')\n",
    "plt.legend(loc=\"lower right\")\n",
    "plt.text(0.32,0.7,'More accurate area',fontsize = 12)\n",
    "plt.text(0.63,0.4,'Less accurate area',fontsize = 12)\n",
    "plt.show()\n"
   ]
  },
  {
   "cell_type": "code",
   "execution_count": 89,
   "metadata": {},
   "outputs": [
    {
     "data": {
      "text/plain": [
       "{'micro': 0.77462088518569794}"
      ]
     },
     "metadata": {},
     "output_type": "display_data"
    },
    {
     "data": {
      "image/png": "[encoded data removed]",
      "text/plain": [
       "<Figure size 432x288 with 1 Axes>"
      ]
     },
     "metadata": {},
     "output_type": "display_data"
    }
   ],
   "source": [
    "# Compute ROC curve and ROC area for each class\n",
    "from sklearn.preprocessing import label_binarize\n",
    "from sklearn.metrics import roc_curve, auc\n",
    "y_bin_t = label_binarize(y_test, classes=['0', '1'])\n",
    "y_bin_p = label_binarize(y_pred_test, classes=['0', '1'])\n",
    "\n",
    "n_classes = y_bin_t.shape[1]\n",
    "\n",
    "\n",
    "fpr = dict()\n",
    "tpr = dict()\n",
    "roc_auc = dict()\n",
    "#for i in range(n_classes):\n",
    "#    fpr[i], tpr[i], _ = roc_curve(y_test, probs_test[:, i])\n",
    "#    roc_auc[i] = auc(fpr[i], tpr[i])\n",
    "\n",
    "# Compute micro-average ROC curve and ROC area\n",
    "fpr[\"micro\"], tpr[\"micro\"], _ = roc_curve(y_bin_t.ravel(), y_bin_p.ravel())\n",
    "roc_auc[\"micro\"] = auc(fpr[\"micro\"], tpr[\"micro\"])\n",
    "display(roc_auc)\n",
    "\n",
    "plt.figure()\n",
    "lw = 2\n",
    "plt.plot(fpr[\"micro\"], tpr[\"micro\"], color='darkorange',\n",
    "         lw=lw, label='ROC curve (area = %0.2f)' % roc_auc[\"micro\"])\n",
    "plt.plot([0, 1], [0, 1], color='navy', lw=lw, linestyle='--')\n",
    "plt.xlim([0.0, 1.0])\n",
    "plt.ylim([0.0, 1.05])\n",
    "plt.xlabel('False Positive Rate')\n",
    "plt.ylabel('True Positive Rate')\n",
    "plt.title('Receiver operating characteristic example')\n",
    "plt.legend(loc=\"lower right\")\n",
    "plt.show()\n",
    "from sklearn.metrics import average_precision_score\n",
    "\n",
    "#average_precision_score(y_test,probs_test[:,1],pos_label='')\n"
   ]
  },
  {
   "cell_type": "code",
   "execution_count": 41,
   "metadata": {},
   "outputs": [],
   "source": [
    "from sklearn.model_selection import GridSearchCV\n",
    "from sklearn.metrics import  make_scorer\n",
    "\n",
    "param={'criterion':['entropy','gini'],\n",
    "       'splitter':['random','best'],\n",
    "       'max_depth':[3,5,10,20],\n",
    "       'min_samples_split':[100,500,3000],\n",
    "       #'min_samples_leaf':[100,300,1000],\n",
    "      # 'min_weight_fraction_leaf':[0,1],\n",
    "       #'max_features':[None,'auto','sqrt','log2'],\n",
    "       #'random_state':[0,1,2],\n",
    "       #'max_leaf_nodes':[100,500,1000],\n",
    "       #'min_impurity_decrease':[0,0.4],\n",
    "       #'min_impurity_split':[0,0.4],\n",
    "       'class_weight':['balanced',None]\n",
    "      }\n",
    "modelo = tree.DecisionTreeClassifier()\n",
    "#auc_scorer = make_scorer(accuracy_score)\n",
    "auc_scorer = make_scorer(auc)\n",
    "\n",
    "\n",
    "grid_obj = GridSearchCV(modelo, param, cv=4,n_jobs=-1,scoring=auc_scorer)\n",
    "y_bin_train = label_binarize(y_train, classes=[0, 1])\n",
    "grid_fit = grid_obj.fit(X_train, y_bin_train.ravel())\n",
    "#grid_fit = grid_obj.fit(X_train,y_train )"
   ]
  },
  {
   "cell_type": "code",
   "execution_count": 50,
   "metadata": {},
   "outputs": [
    {
     "data": {
      "text/plain": [
       "DecisionTreeClassifier(class_weight='balanced', criterion='entropy',\n",
       "            max_depth=3, max_features=None, max_leaf_nodes=None,\n",
       "            min_impurity_decrease=0.0, min_impurity_split=None,\n",
       "            min_samples_leaf=1, min_samples_split=100,\n",
       "            min_weight_fraction_leaf=0.0, presort=False, random_state=None,\n",
       "            splitter='random')"
      ]
     },
     "execution_count": 50,
     "metadata": {},
     "output_type": "execute_result"
    }
   ],
   "source": [
    "best_clf = grid_fit.best_estimator_\n",
    "best_clf"
   ]
  },
  {
   "cell_type": "code",
   "execution_count": 100,
   "metadata": {},
   "outputs": [
    {
     "data": {
      "text/plain": [
       "DecisionTreeClassifier(class_weight='balanced', criterion='entropy',\n",
       "            max_depth=3, max_features=None, max_leaf_nodes=None,\n",
       "            min_impurity_decrease=0.0, min_impurity_split=None,\n",
       "            min_samples_leaf=1, min_samples_split=100,\n",
       "            min_weight_fraction_leaf=0.0, presort=False, random_state=None,\n",
       "            splitter='random')"
      ]
     },
     "execution_count": 100,
     "metadata": {},
     "output_type": "execute_result"
    }
   ],
   "source": [
    "from sklearn import tree\n",
    "\n",
    "\n",
    "\n",
    "\n",
    "\n",
    "modelo1=tree.DecisionTreeClassifier(class_weight='balanced', criterion='entropy',\n",
    "            max_depth=3, max_features=None, max_leaf_nodes=None,\n",
    "            min_impurity_decrease=0.0, min_impurity_split=None,\n",
    "            min_samples_leaf=1, min_samples_split=100,\n",
    "            min_weight_fraction_leaf=0.0, presort=False, random_state=None,\n",
    "            splitter='random')\n",
    "\n",
    "modelo2=tree.DecisionTreeClassifier(class_weight='balanced', criterion='entropy',\n",
    "            max_depth=3, max_features=None, max_leaf_nodes=None,\n",
    "            min_impurity_decrease=0.0, min_impurity_split=None,\n",
    "            min_samples_leaf=1, min_samples_split=100,\n",
    "            min_weight_fraction_leaf=0.0, presort=False, random_state=None,\n",
    "            splitter='random')\n",
    "\n",
    "modelo3=tree.DecisionTreeClassifier(class_weight='balanced', criterion='entropy',\n",
    "            max_depth=3, max_features=None, max_leaf_nodes=None,\n",
    "            min_impurity_decrease=0.0, min_impurity_split=None,\n",
    "            min_samples_leaf=1, min_samples_split=100,\n",
    "            min_weight_fraction_leaf=0.0, presort=False, random_state=None,\n",
    "            splitter='random')\n",
    "\n",
    "modelo1.fit(X_train, y_train)\n",
    "X_train2=X_train.drop(labels=['estado_civil_Married-civ-spouse'],axis=1)\n",
    "modelo2.fit(X_train2, y_train)\n",
    "X_train3=X_train2.drop(labels=['relaciones_Husband'],axis=1)\n",
    "modelo3.fit(X_train3, y_train)"
   ]
  },
  {
   "cell_type": "code",
   "execution_count": 101,
   "metadata": {},
   "outputs": [
    {
     "data": {
      "image/png": "[encoded data removed]",
      "text/plain": [
       "<IPython.core.display.Image object>"
      ]
     },
     "execution_count": 101,
     "metadata": {},
     "output_type": "execute_result"
    }
   ],
   "source": [
    "from sklearn.externals.six import StringIO \n",
    "from sklearn.tree import export_graphviz\n",
    "import pydotplus\n",
    "from IPython.display import Image \n",
    "#pip install graphviz\n",
    "#pip install pydotplus\n",
    "dot_data = StringIO()\n",
    "\n",
    "feature_cols=X_train3.columns\n",
    "export_graphviz(modelo3, out_file=dot_data,  \n",
    "                filled=True, rounded=True,\n",
    "                special_characters=True,feature_names = feature_cols,class_names=['0','1'])\n",
    "\n",
    "graph = pydotplus.graph_from_dot_data(dot_data.getvalue())  \n",
    "graph.write_png('arbol.png')\n",
    "Image(graph.create_png())"
   ]
  },
  {
   "cell_type": "code",
   "execution_count": 105,
   "metadata": {},
   "outputs": [],
   "source": [
    "from sklearn.ensemble import  VotingClassifier\n",
    "\n",
    "eclf1 = VotingClassifier(estimators=[\n",
    "        ('modelo1', modelo1), ('modelo2', modelo2), ('modelo3', modelo3)],\n",
    "    voting='hard')\n",
    "\n",
    "eclf1 = eclf1.fit(X_train,y_train)\n"
   ]
  },
  {
   "cell_type": "code",
   "execution_count": 106,
   "metadata": {},
   "outputs": [
    {
     "data": {
      "text/plain": [
       "{'micro': 0.75307659160933083}"
      ]
     },
     "metadata": {},
     "output_type": "display_data"
    },
    {
     "data": {
      "image/png": "[encoded data removed]",
      "text/plain": [
       "<Figure size 432x288 with 1 Axes>"
      ]
     },
     "metadata": {},
     "output_type": "display_data"
    }
   ],
   "source": [
    "# Compute ROC curve and ROC area for each class\n",
    "from sklearn.preprocessing import label_binarize\n",
    "from sklearn.metrics import roc_curve, auc\n",
    "\n",
    "y_pred_test=eclf1.predict(X_test)\n",
    "\n",
    "y_bin_t = label_binarize(y_test, classes=['0', '1'])\n",
    "y_bin_p = label_binarize(y_pred_test, classes=['0', '1'])\n",
    "\n",
    "n_classes = y_bin_t.shape[1]\n",
    "\n",
    "\n",
    "fpr = dict()\n",
    "tpr = dict()\n",
    "roc_auc = dict()\n",
    "#for i in range(n_classes):\n",
    "#    fpr[i], tpr[i], _ = roc_curve(y_test, probs_test[:, i])\n",
    "#    roc_auc[i] = auc(fpr[i], tpr[i])\n",
    "\n",
    "# Compute micro-average ROC curve and ROC area\n",
    "fpr[\"micro\"], tpr[\"micro\"], _ = roc_curve(y_bin_t.ravel(), y_bin_p.ravel())\n",
    "roc_auc[\"micro\"] = auc(fpr[\"micro\"], tpr[\"micro\"])\n",
    "display(roc_auc)\n",
    "\n",
    "plt.figure()\n",
    "lw = 2\n",
    "plt.plot(fpr[\"micro\"], tpr[\"micro\"], color='darkorange',\n",
    "         lw=lw, label='ROC curve (area = %0.2f)' % roc_auc[\"micro\"])\n",
    "plt.plot([0, 1], [0, 1], color='navy', lw=lw, linestyle='--')\n",
    "plt.xlim([0.0, 1.0])\n",
    "plt.ylim([0.0, 1.05])\n",
    "plt.xlabel('False Positive Rate')\n",
    "plt.ylabel('True Positive Rate')\n",
    "plt.title('Receiver operating characteristic example')\n",
    "plt.legend(loc=\"lower right\")\n",
    "plt.show()\n",
    "from sklearn.metrics import average_precision_score\n",
    "\n",
    "#average_precision_score(y_test,probs_test[:,1],pos_label='')\n"
   ]
  },
  {
   "cell_type": "code",
   "execution_count": 127,
   "metadata": {},
   "outputs": [
    {
     "data": {
      "text/html": [
       "<div style=\"max-height:1000px;max-width:1500px;overflow:auto;\">\n",
       "<table border=\"1\" class=\"dataframe\">\n",
       "  <thead>\n",
       "    <tr style=\"text-align: right;\">\n",
       "      <th></th>\n",
       "      <th>columnas</th>\n",
       "      <th>importancia</th>\n",
       "    </tr>\n",
       "  </thead>\n",
       "  <tbody>\n",
       "    <tr>\n",
       "      <th>31</th>\n",
       "      <td> estado_civil_Married-civ-spouse</td>\n",
       "      <td> 0.711691</td>\n",
       "    </tr>\n",
       "    <tr>\n",
       "      <th>3 </th>\n",
       "      <td>                ganancia_capital</td>\n",
       "      <td> 0.115607</td>\n",
       "    </tr>\n",
       "    <tr>\n",
       "      <th>53</th>\n",
       "      <td>            relaciones_Own-child</td>\n",
       "      <td> 0.062792</td>\n",
       "    </tr>\n",
       "    <tr>\n",
       "      <th>45</th>\n",
       "      <td>        ocupacion_Prof-specialty</td>\n",
       "      <td> 0.053514</td>\n",
       "    </tr>\n",
       "    <tr>\n",
       "      <th>22</th>\n",
       "      <td>             educacion_Bachelors</td>\n",
       "      <td> 0.051771</td>\n",
       "    </tr>\n",
       "    <tr>\n",
       "      <th>2 </th>\n",
       "      <td>                anios_de_estudio</td>\n",
       "      <td> 0.004626</td>\n",
       "    </tr>\n",
       "    <tr>\n",
       "      <th>0 </th>\n",
       "      <td>                            edad</td>\n",
       "      <td> 0.000000</td>\n",
       "    </tr>\n",
       "    <tr>\n",
       "      <th>68</th>\n",
       "      <td>         pais_Dominican-Republic</td>\n",
       "      <td> 0.000000</td>\n",
       "    </tr>\n",
       "    <tr>\n",
       "      <th>76</th>\n",
       "      <td>                      pais_Haiti</td>\n",
       "      <td> 0.000000</td>\n",
       "    </tr>\n",
       "    <tr>\n",
       "      <th>75</th>\n",
       "      <td>                  pais_Guatemala</td>\n",
       "      <td> 0.000000</td>\n",
       "    </tr>\n",
       "  </tbody>\n",
       "</table>\n",
       "</div>"
      ],
      "text/plain": [
       "                           columnas  importancia\n",
       "31  estado_civil_Married-civ-spouse     0.711691\n",
       "3                  ganancia_capital     0.115607\n",
       "53             relaciones_Own-child     0.062792\n",
       "45         ocupacion_Prof-specialty     0.053514\n",
       "22              educacion_Bachelors     0.051771\n",
       "2                  anios_de_estudio     0.004626\n",
       "0                              edad     0.000000\n",
       "68          pais_Dominican-Republic     0.000000\n",
       "76                       pais_Haiti     0.000000\n",
       "75                   pais_Guatemala     0.000000"
      ]
     },
     "execution_count": 127,
     "metadata": {},
     "output_type": "execute_result"
    }
   ],
   "source": [
    "modelo1.feature_importances_\n",
    "#importancia \n",
    "import_df=pd.DataFrame()\n",
    "import_df['columnas']=X_train.columns\n",
    "import_df['importancia']=modelo1.feature_importances_\n",
    "\n",
    "import_df.sort(['importancia'],\n",
    "                              ascending=[False]).head(10)\n",
    "\n",
    "\n"
   ]
  }
 ],
 "metadata": {
  "kernelspec": {
   "display_name": "Python 3",
   "language": "python",
   "name": "python3"
  },
  "language_info": {
   "codemirror_mode": {
    "name": "ipython",
    "version": 3
   },
   "file_extension": ".py",
   "mimetype": "text/x-python",
   "name": "python",
   "nbconvert_exporter": "python",
   "pygments_lexer": "ipython3",
   "version": "3.7.4"
  }
 },
 "nbformat": 4,
 "nbformat_minor": 2
}
