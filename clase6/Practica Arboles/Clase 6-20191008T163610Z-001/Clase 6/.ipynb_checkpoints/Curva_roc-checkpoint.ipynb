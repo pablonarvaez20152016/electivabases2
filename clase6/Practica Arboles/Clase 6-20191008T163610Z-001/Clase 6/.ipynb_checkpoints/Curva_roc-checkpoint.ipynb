{
 "cells": [
  {
   "cell_type": "code",
   "execution_count": 5,
   "metadata": {},
   "outputs": [],
   "source": [
    "import pandas as pd\n",
    "import sklearn\n",
    "from sklearn.metrics import roc_curve\n",
    "from sklearn.metrics import roc_auc_score\n",
    "from sklearn.metrics import confusion_matrix,classification_report\n",
    "from sklearn.metrics import accuracy_score,precision_score"
   ]
  },
  {
   "cell_type": "code",
   "execution_count": 20,
   "metadata": {},
   "outputs": [
    {
     "data": {
      "text/plain": [
       "array([[6, 2],\n",
       "       [1, 2]])"
      ]
     },
     "metadata": {},
     "output_type": "display_data"
    },
    {
     "name": "stdout",
     "output_type": "stream",
     "text": [
      "accuracy test: 0.727272727273\n",
      "              precision    recall  f1-score   support\n",
      "\n",
      "           0       0.86      0.75      0.80         8\n",
      "           1       0.50      0.67      0.57         3\n",
      "\n",
      "   micro avg       0.73      0.73      0.73        11\n",
      "   macro avg       0.68      0.71      0.69        11\n",
      "weighted avg       0.76      0.73      0.74        11\n",
      "\n"
     ]
    }
   ],
   "source": [
    "y_true=[1,1,0,1,0,0,0,0,0,0,0]\n",
    "y_pred=[1,0,1,1,0,0,0,0,0,0,1]\n",
    "\n",
    "display(confusion_matrix(y_true,y_pred))\n",
    "print(\"accuracy test:\",accuracy_score(y_true, y_pred))\n",
    "\n",
    "print(classification_report(y_true,y_pred))"
   ]
  }
 ],
 "metadata": {
  "kernelspec": {
   "display_name": "Python 3",
   "language": "python",
   "name": "python3"
  },
  "language_info": {
   "codemirror_mode": {
    "name": "ipython",
    "version": 3
   },
   "file_extension": ".py",
   "mimetype": "text/x-python",
   "name": "python",
   "nbconvert_exporter": "python",
   "pygments_lexer": "ipython3",
   "version": "3.4.2"
  }
 },
 "nbformat": 4,
 "nbformat_minor": 2
}
